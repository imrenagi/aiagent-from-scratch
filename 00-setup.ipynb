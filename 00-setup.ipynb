{
 "cells": [
  {
   "cell_type": "markdown",
   "metadata": {},
   "source": [
    "# Building AI Agent Bot With RAG, Langchain, and Reasoning Engine From Scratch\n",
    "\n",
    "## Setup\n",
    "\n",
    "\n",
    "* This notebook will walk you through some required setup that you need to do before starting with the materials.\n",
    "\n",
    "* It is highly recommended to use new virtual environment when running jupyter notebook for this workshop."
   ]
  },
  {
   "cell_type": "markdown",
   "metadata": {},
   "source": [
    "### Installing dependencies"
   ]
  },
  {
   "cell_type": "code",
   "execution_count": null,
   "metadata": {},
   "outputs": [],
   "source": [
    "%%writefile requirements.txt\n",
    "\n",
    "google-cloud-aiplatform==1.69.0\n",
    "google-cloud-aiplatform[langchain]\n",
    "google-cloud-aiplatform[reasoningengine]\n",
    "langchain==0.2.16\n",
    "langchain_core==0.2.39\n",
    "langchain_community==0.2.17\n",
    "langchain-google-vertexai==1.0.10\n",
    "cloudpickle==3.1.0\n",
    "pydantic==2.9.2\n",
    "langchain-google-community==1.0.8\n",
    "google-cloud-discoveryengine==0.12.3\n",
    "nest-asyncio\n",
    "asyncio==3.4.3\n",
    "asyncpg==0.29.0\n",
    "cloud-sql-python-connector[asyncpg]==1.12.1\n",
    "langchain-google-cloud-sql-pg==0.11.0\n",
    "numpy\n",
    "pandas\n",
    "pgvector==0.3.5\n",
    "psycopg2-binary==2.9.9\n"
   ]
  },
  {
   "cell_type": "code",
   "execution_count": null,
   "metadata": {},
   "outputs": [],
   "source": [
    "!pip install -r requirements.txt"
   ]
  },
  {
   "cell_type": "markdown",
   "metadata": {},
   "source": [
    "in case you are facing issue with installing psycopg2, please run the following command (linux only):\n",
    "\n",
    "```\n",
    "sudo apt update\n",
    "sudo apt install python3-dev libpq-dev\n",
    "```"
   ]
  },
  {
   "cell_type": "markdown",
   "metadata": {},
   "source": [
    "You will require to restart the jupyter kernel once the dependency installed."
   ]
  },
  {
   "cell_type": "code",
   "execution_count": null,
   "metadata": {},
   "outputs": [],
   "source": [
    "import IPython\n",
    "\n",
    "app = IPython.Application.instance()\n",
    "app.kernel.do_shutdown(True)"
   ]
  },
  {
   "cell_type": "markdown",
   "metadata": {},
   "source": [
    "## Setting up Google Cloud Account"
   ]
  },
  {
   "cell_type": "markdown",
   "metadata": {},
   "source": [
    "#### Recommended account setup\n",
    "\n",
    "if you are running this in jupyter notebook locally, you may need to login to google cloud by running the following command from terminal:\n",
    "\n",
    "```\n",
    "gcloud auth login\n",
    "gcloud auth application-default login\n",
    "```"
   ]
  },
  {
   "cell_type": "markdown",
   "metadata": {},
   "source": [
    "If you are using Google Colabs, you need to authenticate with your google account by running the following notebook cell. \n",
    "\n",
    "> Please remember that you will need to do this on each jupyter notebook during this workshop"
   ]
  },
  {
   "cell_type": "code",
   "execution_count": null,
   "metadata": {},
   "outputs": [],
   "source": [
    "#@markdown ###Authenticate your Google Cloud Account and enable APIs.\n",
    "# Authenticate gcloud.\n",
    "from google.colab import auth\n",
    "auth.authenticate_user()"
   ]
  },
  {
   "cell_type": "markdown",
   "metadata": {},
   "source": [
    "## Accessing Google Cloud Credit\n",
    "\n",
    "Please redeem your $5 USD credit that you can use for this workshop. Link for this, will be shared on the class room.\n",
    "\n",
    "The instruction given will also require you to create a new GCP project. Create one!"
   ]
  },
  {
   "cell_type": "markdown",
   "metadata": {},
   "source": [
    "## Enabling Google Service API\n",
    "\n",
    "Before creating cloud resources (e.g. database, cloudrun services, reasoning engine, etc), first we must enable the services api."
   ]
  },
  {
   "cell_type": "code",
   "execution_count": 1,
   "metadata": {},
   "outputs": [],
   "source": [
    "# @markdown Replace the required placeholder text below. You can modify any other default values, if you like.\n",
    "\n",
    "# please change the project id into your gcp project id you just created. \n",
    "project_id = \"imrenagi-gemini-experiment\"  # @param {type:\"string\"}\n",
    "\n",
    "# you can leave this the same.\n",
    "region = \"us-central1\"  # @param {type:\"string\"}"
   ]
  },
  {
   "cell_type": "code",
   "execution_count": 2,
   "metadata": {},
   "outputs": [
    {
     "data": {
      "text/plain": [
       "'896489987664'"
      ]
     },
     "execution_count": 2,
     "metadata": {},
     "output_type": "execute_result"
    }
   ],
   "source": [
    "from googleapiclient import discovery\n",
    "service = discovery.build(\"cloudresourcemanager\", \"v1\")\n",
    "request = service.projects().get(projectId=project_id)\n",
    "response = request.execute()\n",
    "project_number = response[\"projectNumber\"]\n",
    "project_number"
   ]
  },
  {
   "cell_type": "markdown",
   "metadata": {},
   "source": [
    "Here, we will enable few services:\n",
    "\n",
    "* `aiplatform.googleapis.com` -> used for using Gemini LLM and reasoning engine\n",
    "* `run.googleapis.com` -> used for deploying to cloud run\n",
    "* `cloudbuild.googleapis.com` -> used for building docker image and perform the deployment"
   ]
  },
  {
   "cell_type": "code",
   "execution_count": null,
   "metadata": {},
   "outputs": [],
   "source": [
    "!gcloud services enable aiplatform.googleapis.com\n",
    "!gcloud services enable run.googleapis.com \n",
    "!gcloud services enable cloudbuild.googleapis.com\n",
    "!gcloud services enable sqladmin.googleapis.com\n",
    "\n",
    "!gcloud projects add-iam-policy-binding {project_id} \\\n",
    "    --member=serviceAccount:{project_number}-compute@developer.gserviceaccount.com \\\n",
    "    --role=\"roles/cloudbuild.builds.builder\"\n",
    "\n",
    "# # Add a new role binding to the IAM policy\n",
    "!gcloud projects add-iam-policy-binding {project_id} \\\n",
    "    --member=serviceAccount:service-{project_number}@gcp-sa-aiplatform-re.iam.gserviceaccount.com \\\n",
    "    --role=\"roles/discoveryengine.editor\"\n",
    "\n",
    "!gcloud projects add-iam-policy-binding {project_id} \\\n",
    "    --member=serviceAccount:service-{project_number}@gcp-sa-aiplatform-re.iam.gserviceaccount.com \\\n",
    "    --role=\"roles/cloudsql.client\"\n",
    "\n",
    "!gcloud projects add-iam-policy-binding {project_id} \\\n",
    "    --member=serviceAccount:service-{project_number}@gcp-sa-aiplatform-re.iam.gserviceaccount.com \\\n",
    "    --role=\"roles/run.invoker\""
   ]
  },
  {
   "cell_type": "markdown",
   "metadata": {},
   "source": [
    "# Deploying Dummy API server\n",
    "\n",
    "Later on this workshop, you will be using your AI agent to interact with api in order to get detail about an online course you provide as well as to create purchase request. Hence, we will deploy the simple stupid API to cloudrun.\n",
    "\n",
    "If you want to see the detail, you can check the `api/` directory.\n",
    "\n",
    "Now let's deploy the Go API to cloud run:"
   ]
  },
  {
   "cell_type": "code",
   "execution_count": null,
   "metadata": {},
   "outputs": [],
   "source": [
    "!echo ${PWD}\n",
    "!./api/deploy.sh"
   ]
  },
  {
   "cell_type": "markdown",
   "metadata": {},
   "source": [
    "Once it is deployed, run the command to get the url of your dummy api. Take note because we will use it later:"
   ]
  },
  {
   "cell_type": "code",
   "execution_count": 8,
   "metadata": {},
   "outputs": [
    {
     "name": "stdout",
     "output_type": "stream",
     "text": [
      "https://courses-api-uzttxm4diq-uc.a.run.app\n"
     ]
    }
   ],
   "source": [
    "!gcloud run services describe courses-api --region=us-central1 --format='value(status.url)'"
   ]
  },
  {
   "cell_type": "markdown",
   "metadata": {},
   "source": [
    "# Creating Staging Bucket for AI Agent\n",
    "\n",
    "Later, when we deploy the AI Agent, we have to provide the staging gcs bucket used to store the pickle and some other configurations of our reasoning engine. So, let's create a new empty bucket. Please change `staging_bucket_name` variable below with globally unique name.\n",
    "\n",
    "Once the bucket created, take note the name of the bucket."
   ]
  },
  {
   "cell_type": "code",
   "execution_count": null,
   "metadata": {},
   "outputs": [],
   "source": [
    "# change this with globaly unique name. you may add your name to make it unique. this bucket will be used later for storing the model\n",
    "staging_bucket_name = \"courses-imrenagicom-agent\"\n",
    "\n",
    "!gcloud storage buckets create gs://{staging_bucket_name} --project={project_id} --location={region} --uniform-bucket-level-access"
   ]
  }
 ],
 "metadata": {
  "kernelspec": {
   "display_name": ".venv",
   "language": "python",
   "name": "python3"
  },
  "language_info": {
   "codemirror_mode": {
    "name": "ipython",
    "version": 3
   },
   "file_extension": ".py",
   "mimetype": "text/x-python",
   "name": "python",
   "nbconvert_exporter": "python",
   "pygments_lexer": "ipython3",
   "version": "3.11.10"
  }
 },
 "nbformat": 4,
 "nbformat_minor": 2
}
