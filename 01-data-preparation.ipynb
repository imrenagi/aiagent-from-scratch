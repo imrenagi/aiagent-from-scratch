{
 "cells": [
  {
   "cell_type": "markdown",
   "metadata": {},
   "source": [
    "# Data Preparation\n",
    "\n",
    "In this workshop, we are going to use written content from [OWASP CheatSheetSeries](https://github.com/OWASP/CheatSheetSeries) as the source document for our RAG. However, to reduce the cost, I already currated few files that we are going to use in `sources/` directory. Instead of using all of them, we will just use few of them and build embedding with the currated files."
   ]
  },
  {
   "cell_type": "markdown",
   "metadata": {},
   "source": [
    "The source code below will just iterate over all files within `sources` directory and create a `course_content.jsonl` file containing the file contents."
   ]
  },
  {
   "cell_type": "code",
   "execution_count": null,
   "metadata": {},
   "outputs": [],
   "source": [
    "import json\n",
    "import os\n",
    "from pathlib import Path\n",
    "\n",
    "def generate_course_content_jsonl():\n",
    "    sources_dir = Path('sources')\n",
    "    output_file = 'course_content.jsonl'\n",
    "    \n",
    "    if not sources_dir.exists():\n",
    "        print(f\"Error: {sources_dir} directory not found.\")\n",
    "        return\n",
    "    \n",
    "    with open(output_file, 'w') as jsonl_file:\n",
    "        for id, file_path in enumerate(sources_dir.glob('*'), start=1):\n",
    "            if file_path.is_file():\n",
    "                title = file_path.stem.replace('_', ' ')\n",
    "                with open(file_path, 'r', encoding='utf-8') as content_file:\n",
    "                    content = content_file.read()\n",
    "                \n",
    "                # Generate slug from title\n",
    "                slug = title.lower().replace(' ', '-')\n",
    "                \n",
    "                record = {\n",
    "                    'id': id,\n",
    "                    'title': title,\n",
    "                    'content': content,\n",
    "                    'file_path': str(file_path),\n",
    "                    'slug': slug\n",
    "                }\n",
    "                \n",
    "                json.dump(record, jsonl_file)\n",
    "                jsonl_file.write('\\n')\n",
    "    \n",
    "    print(f\"JSONL file '{output_file}' has been generated successfully.\")\n",
    "\n",
    "# Run the function to generate the JSONL file\n",
    "generate_course_content_jsonl()\n"
   ]
  },
  {
   "cell_type": "markdown",
   "metadata": {},
   "source": [
    "Let's see what is inside the `course_content.jsonl` file:"
   ]
  },
  {
   "cell_type": "code",
   "execution_count": null,
   "metadata": {},
   "outputs": [],
   "source": [
    "import pandas as pd\n",
    "\n",
    "df = pd.read_json('course_content.jsonl', lines=True)\n",
    "df.head()"
   ]
  }
 ],
 "metadata": {
  "kernelspec": {
   "display_name": ".venv",
   "language": "python",
   "name": "python3"
  },
  "language_info": {
   "codemirror_mode": {
    "name": "ipython",
    "version": 3
   },
   "file_extension": ".py",
   "mimetype": "text/x-python",
   "name": "python",
   "nbconvert_exporter": "python",
   "pygments_lexer": "ipython3",
   "version": "3.11.10"
  }
 },
 "nbformat": 4,
 "nbformat_minor": 2
}
