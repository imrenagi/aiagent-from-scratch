{
 "cells": [
  {
   "cell_type": "markdown",
   "metadata": {},
   "source": [
    "# Data Preparation\n",
    "\n",
    "In this workshop, we are going to use written content from [OWASP CheatSheetSeries](https://github.com/OWASP/CheatSheetSeries) as the source document for our RAG. However, to reduce the cost, I already currated few files that we are going to use in `sources/` directory. Instead of using all of them, we will just use few of them and build embedding with the currated files."
   ]
  },
  {
   "cell_type": "markdown",
   "metadata": {},
   "source": [
    "The source code below will just iterate over all files within `sources` directory and create a `course_content.jsonl` file containing the file contents."
   ]
  },
  {
   "cell_type": "code",
   "execution_count": 11,
   "metadata": {},
   "outputs": [
    {
     "name": "stdout",
     "output_type": "stream",
     "text": [
      "JSONL file 'course_content.jsonl' has been generated successfully.\n"
     ]
    }
   ],
   "source": [
    "import json\n",
    "import os\n",
    "from pathlib import Path\n",
    "\n",
    "def generate_course_content_jsonl():\n",
    "    sources_dir = Path('sources')\n",
    "    output_file = 'course_content.jsonl'\n",
    "    \n",
    "    if not sources_dir.exists():\n",
    "        print(f\"Error: {sources_dir} directory not found.\")\n",
    "        return\n",
    "    \n",
    "    with open(output_file, 'w') as jsonl_file:\n",
    "        for id, file_path in enumerate(sources_dir.glob('*'), start=1):\n",
    "            if file_path.is_file():\n",
    "                title = file_path.stem.replace('_', ' ')\n",
    "                with open(file_path, 'r', encoding='utf-8') as content_file:\n",
    "                    content = content_file.read()\n",
    "                \n",
    "                # Generate slug from title\n",
    "                slug = title.lower().replace(' ', '-')\n",
    "                \n",
    "                record = {\n",
    "                    'id': id,\n",
    "                    'title': title,\n",
    "                    'content': content,\n",
    "                    'file_path': str(file_path),\n",
    "                    'slug': slug\n",
    "                }\n",
    "                \n",
    "                json.dump(record, jsonl_file)\n",
    "                jsonl_file.write('\\n')\n",
    "    \n",
    "    print(f\"JSONL file '{output_file}' has been generated successfully.\")\n",
    "\n",
    "# Run the function to generate the JSONL file\n",
    "generate_course_content_jsonl()\n"
   ]
  },
  {
   "cell_type": "markdown",
   "metadata": {},
   "source": [
    "Let's see what is inside the `course_content.jsonl` file:"
   ]
  },
  {
   "cell_type": "code",
   "execution_count": 12,
   "metadata": {},
   "outputs": [
    {
     "data": {
      "text/html": [
       "<div>\n",
       "<style scoped>\n",
       "    .dataframe tbody tr th:only-of-type {\n",
       "        vertical-align: middle;\n",
       "    }\n",
       "\n",
       "    .dataframe tbody tr th {\n",
       "        vertical-align: top;\n",
       "    }\n",
       "\n",
       "    .dataframe thead th {\n",
       "        text-align: right;\n",
       "    }\n",
       "</style>\n",
       "<table border=\"1\" class=\"dataframe\">\n",
       "  <thead>\n",
       "    <tr style=\"text-align: right;\">\n",
       "      <th></th>\n",
       "      <th>id</th>\n",
       "      <th>title</th>\n",
       "      <th>content</th>\n",
       "      <th>file_path</th>\n",
       "      <th>slug</th>\n",
       "    </tr>\n",
       "  </thead>\n",
       "  <tbody>\n",
       "    <tr>\n",
       "      <th>0</th>\n",
       "      <td>1</td>\n",
       "      <td>REST Security Cheat Sheet</td>\n",
       "      <td># REST Security Cheat Sheet\\n\\n## Introduction...</td>\n",
       "      <td>sources/REST_Security_Cheat_Sheet.md</td>\n",
       "      <td>rest-security-cheat-sheet</td>\n",
       "    </tr>\n",
       "    <tr>\n",
       "      <th>1</th>\n",
       "      <td>2</td>\n",
       "      <td>Forgot Password Cheat Sheet</td>\n",
       "      <td># Forgot Password Cheat Sheet\\n\\n## Introducti...</td>\n",
       "      <td>sources/Forgot_Password_Cheat_Sheet.md</td>\n",
       "      <td>forgot-password-cheat-sheet</td>\n",
       "    </tr>\n",
       "    <tr>\n",
       "      <th>2</th>\n",
       "      <td>3</td>\n",
       "      <td>Authentication Cheat Sheet</td>\n",
       "      <td># Authentication Cheat Sheet\\n\\n## Introductio...</td>\n",
       "      <td>sources/Authentication_Cheat_Sheet.md</td>\n",
       "      <td>authentication-cheat-sheet</td>\n",
       "    </tr>\n",
       "    <tr>\n",
       "      <th>3</th>\n",
       "      <td>4</td>\n",
       "      <td>Password Storage Cheat Sheet</td>\n",
       "      <td># Password Storage Cheat Sheet\\n\\n## Introduct...</td>\n",
       "      <td>sources/Password_Storage_Cheat_Sheet.md</td>\n",
       "      <td>password-storage-cheat-sheet</td>\n",
       "    </tr>\n",
       "    <tr>\n",
       "      <th>4</th>\n",
       "      <td>5</td>\n",
       "      <td>Authorization Cheat Sheet</td>\n",
       "      <td># Authorization Cheat Sheet\\n\\n## Introduction...</td>\n",
       "      <td>sources/Authorization_Cheat_Sheet.md</td>\n",
       "      <td>authorization-cheat-sheet</td>\n",
       "    </tr>\n",
       "  </tbody>\n",
       "</table>\n",
       "</div>"
      ],
      "text/plain": [
       "   id                         title  \\\n",
       "0   1     REST Security Cheat Sheet   \n",
       "1   2   Forgot Password Cheat Sheet   \n",
       "2   3    Authentication Cheat Sheet   \n",
       "3   4  Password Storage Cheat Sheet   \n",
       "4   5     Authorization Cheat Sheet   \n",
       "\n",
       "                                             content  \\\n",
       "0  # REST Security Cheat Sheet\\n\\n## Introduction...   \n",
       "1  # Forgot Password Cheat Sheet\\n\\n## Introducti...   \n",
       "2  # Authentication Cheat Sheet\\n\\n## Introductio...   \n",
       "3  # Password Storage Cheat Sheet\\n\\n## Introduct...   \n",
       "4  # Authorization Cheat Sheet\\n\\n## Introduction...   \n",
       "\n",
       "                                 file_path                          slug  \n",
       "0     sources/REST_Security_Cheat_Sheet.md     rest-security-cheat-sheet  \n",
       "1   sources/Forgot_Password_Cheat_Sheet.md   forgot-password-cheat-sheet  \n",
       "2    sources/Authentication_Cheat_Sheet.md    authentication-cheat-sheet  \n",
       "3  sources/Password_Storage_Cheat_Sheet.md  password-storage-cheat-sheet  \n",
       "4     sources/Authorization_Cheat_Sheet.md     authorization-cheat-sheet  "
      ]
     },
     "execution_count": 12,
     "metadata": {},
     "output_type": "execute_result"
    }
   ],
   "source": [
    "import pandas as pd\n",
    "\n",
    "df = pd.read_json('course_content.jsonl', lines=True)\n",
    "df.head()"
   ]
  }
 ],
 "metadata": {
  "kernelspec": {
   "display_name": ".venv",
   "language": "python",
   "name": "python3"
  },
  "language_info": {
   "codemirror_mode": {
    "name": "ipython",
    "version": 3
   },
   "file_extension": ".py",
   "mimetype": "text/x-python",
   "name": "python",
   "nbconvert_exporter": "python",
   "pygments_lexer": "ipython3",
   "version": "3.10.12"
  }
 },
 "nbformat": 4,
 "nbformat_minor": 2
}
