{
 "cells": [
  {
   "cell_type": "code",
   "execution_count": null,
   "metadata": {},
   "outputs": [],
   "source": [
    "#delete cloudrun\n",
    "!gcloud run services delete courses-api --platform managed --quiet\n",
    "\n",
    "#delete cloudsql\n",
    "!gcloud sql instances delete pyconapac-demo --quiet\n",
    "\n",
    "#delete reasoning engine"
   ]
  }
 ],
 "metadata": {
  "language_info": {
   "name": "python"
  }
 },
 "nbformat": 4,
 "nbformat_minor": 2
}
