{
 "cells": [
  {
   "cell_type": "code",
   "execution_count": 1,
   "metadata": {},
   "outputs": [
    {
     "name": "stdout",
     "output_type": "stream",
     "text": [
      "\u001b[1;31mERROR:\u001b[0m (gcloud.run.services.delete) You must specify a region. Either use the `--region` flag or set the run/region property.\n",
      "Deleting Cloud SQL instance...done.                                            \n",
      "Deleted [https://sqladmin.googleapis.com/sql/v1beta4/projects/imrenagi-gemini-experiment/instances/pyconapac-demo].\n"
     ]
    }
   ],
   "source": [
    "#delete cloudrun\n",
    "!gcloud run services delete courses-api --platform managed --quiet --region us-central1\n",
    "#delete reasoning engine"
   ]
  },
  {
   "cell_type": "code",
   "execution_count": null,
   "metadata": {},
   "outputs": [],
   "source": [
    "#delete cloudsql\n",
    "!gcloud sql instances delete pyconapac-demo --quiet\n"
   ]
  }
 ],
 "metadata": {
  "kernelspec": {
   "display_name": ".venv",
   "language": "python",
   "name": "python3"
  },
  "language_info": {
   "codemirror_mode": {
    "name": "ipython",
    "version": 3
   },
   "file_extension": ".py",
   "mimetype": "text/x-python",
   "name": "python",
   "nbconvert_exporter": "python",
   "pygments_lexer": "ipython3",
   "version": "3.11.10"
  }
 },
 "nbformat": 4,
 "nbformat_minor": 2
}
